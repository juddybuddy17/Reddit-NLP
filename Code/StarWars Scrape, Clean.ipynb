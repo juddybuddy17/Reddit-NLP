{
 "cells": [
  {
   "cell_type": "code",
   "execution_count": 1,
   "id": "c291cfe3",
   "metadata": {},
   "outputs": [],
   "source": [
    "import praw\n",
    "import pandas as pd\n",
    "import numpy as np\n",
    "import matplotlib.pyplot as plt"
   ]
  },
  {
   "cell_type": "code",
   "execution_count": 2,
   "id": "ccade205",
   "metadata": {},
   "outputs": [],
   "source": [
    "reddit = praw.Reddit(\n",
    "    client_id='cWHCVY7qaA3l4ZgJtYfbAw',\n",
    "    client_secret='rimAV8kGrA3TBp8S_7Lkeoux2nt5ag',\n",
    "    user_agent='mac:cWHCVY7qaA3l4ZgJtYfbAw.quesadea17:v1.2.3 (by juddy_buddy_17)',\n",
    "    username='juddy_buddy_17')"
   ]
  },
  {
   "cell_type": "code",
   "execution_count": 3,
   "id": "a8f0775d",
   "metadata": {},
   "outputs": [],
   "source": [
    "subreddit = reddit.subreddit('StarWarsTheories')\n",
    "posts = subreddit.new(limit=1000)"
   ]
  },
  {
   "cell_type": "code",
   "execution_count": 4,
   "id": "cd4178e7",
   "metadata": {},
   "outputs": [
    {
     "data": {
      "text/html": [
       "<div>\n",
       "<style scoped>\n",
       "    .dataframe tbody tr th:only-of-type {\n",
       "        vertical-align: middle;\n",
       "    }\n",
       "\n",
       "    .dataframe tbody tr th {\n",
       "        vertical-align: top;\n",
       "    }\n",
       "\n",
       "    .dataframe thead th {\n",
       "        text-align: right;\n",
       "    }\n",
       "</style>\n",
       "<table border=\"1\" class=\"dataframe\">\n",
       "  <thead>\n",
       "    <tr style=\"text-align: right;\">\n",
       "      <th></th>\n",
       "      <th>created_utc</th>\n",
       "      <th>title</th>\n",
       "      <th>self_text</th>\n",
       "      <th>subreddit</th>\n",
       "    </tr>\n",
       "  </thead>\n",
       "  <tbody>\n",
       "    <tr>\n",
       "      <th>0</th>\n",
       "      <td>1.697418e+09</td>\n",
       "      <td>My Rewrite Pitch for the Sequels( or at least ...</td>\n",
       "      <td>There was a fascinating series of YouTube vide...</td>\n",
       "      <td>StarWarsTheories</td>\n",
       "    </tr>\n",
       "    <tr>\n",
       "      <th>1</th>\n",
       "      <td>1.697398e+09</td>\n",
       "      <td>Imperial driods</td>\n",
       "      <td>I think that almost every single driod in star...</td>\n",
       "      <td>StarWarsTheories</td>\n",
       "    </tr>\n",
       "    <tr>\n",
       "      <th>2</th>\n",
       "      <td>1.697384e+09</td>\n",
       "      <td>How was Anakin treated in force ghost heaven?</td>\n",
       "      <td>Was he well received? What did mace think? Did...</td>\n",
       "      <td>StarWarsTheories</td>\n",
       "    </tr>\n",
       "    <tr>\n",
       "      <th>3</th>\n",
       "      <td>1.697341e+09</td>\n",
       "      <td>Why do you love Star Wars?</td>\n",
       "      <td>This isnt a lore based question but rather a q...</td>\n",
       "      <td>StarWarsTheories</td>\n",
       "    </tr>\n",
       "    <tr>\n",
       "      <th>4</th>\n",
       "      <td>1.696634e+09</td>\n",
       "      <td>Does anyone think if this goes well we might g...</td>\n",
       "      <td>Between the Night Sisters and the cloning stor...</td>\n",
       "      <td>StarWarsTheories</td>\n",
       "    </tr>\n",
       "    <tr>\n",
       "      <th>5</th>\n",
       "      <td>1.696621e+09</td>\n",
       "      <td>When does Ahsoka take place exactly?</td>\n",
       "      <td></td>\n",
       "      <td>StarWarsTheories</td>\n",
       "    </tr>\n",
       "    <tr>\n",
       "      <th>6</th>\n",
       "      <td>1.696619e+09</td>\n",
       "      <td>How are they going to explain away the Remnant...</td>\n",
       "      <td>Dark Magic, zombies, cloning, beskar armor, et...</td>\n",
       "      <td>StarWarsTheories</td>\n",
       "    </tr>\n",
       "    <tr>\n",
       "      <th>7</th>\n",
       "      <td>1.696589e+09</td>\n",
       "      <td>Do you think Zahn's new canon novels could bec...</td>\n",
       "      <td></td>\n",
       "      <td>StarWarsTheories</td>\n",
       "    </tr>\n",
       "    <tr>\n",
       "      <th>8</th>\n",
       "      <td>1.696460e+09</td>\n",
       "      <td>Ahsoka Season 2: Baylan fights Anakin in the W...</td>\n",
       "      <td>Baylan is most likely looking out at something...</td>\n",
       "      <td>StarWarsTheories</td>\n",
       "    </tr>\n",
       "    <tr>\n",
       "      <th>9</th>\n",
       "      <td>1.696134e+09</td>\n",
       "      <td>Why Did Count Dooku Turn to the dark side?</td>\n",
       "      <td>In Star Wars Count Dooku turns to the dark sid...</td>\n",
       "      <td>StarWarsTheories</td>\n",
       "    </tr>\n",
       "  </tbody>\n",
       "</table>\n",
       "</div>"
      ],
      "text/plain": [
       "    created_utc                                              title  \\\n",
       "0  1.697418e+09  My Rewrite Pitch for the Sequels( or at least ...   \n",
       "1  1.697398e+09                                    Imperial driods   \n",
       "2  1.697384e+09      How was Anakin treated in force ghost heaven?   \n",
       "3  1.697341e+09                         Why do you love Star Wars?   \n",
       "4  1.696634e+09  Does anyone think if this goes well we might g...   \n",
       "5  1.696621e+09               When does Ahsoka take place exactly?   \n",
       "6  1.696619e+09  How are they going to explain away the Remnant...   \n",
       "7  1.696589e+09  Do you think Zahn's new canon novels could bec...   \n",
       "8  1.696460e+09  Ahsoka Season 2: Baylan fights Anakin in the W...   \n",
       "9  1.696134e+09         Why Did Count Dooku Turn to the dark side?   \n",
       "\n",
       "                                           self_text         subreddit  \n",
       "0  There was a fascinating series of YouTube vide...  StarWarsTheories  \n",
       "1  I think that almost every single driod in star...  StarWarsTheories  \n",
       "2  Was he well received? What did mace think? Did...  StarWarsTheories  \n",
       "3  This isnt a lore based question but rather a q...  StarWarsTheories  \n",
       "4  Between the Night Sisters and the cloning stor...  StarWarsTheories  \n",
       "5                                                     StarWarsTheories  \n",
       "6  Dark Magic, zombies, cloning, beskar armor, et...  StarWarsTheories  \n",
       "7                                                     StarWarsTheories  \n",
       "8  Baylan is most likely looking out at something...  StarWarsTheories  \n",
       "9  In Star Wars Count Dooku turns to the dark sid...  StarWarsTheories  "
      ]
     },
     "execution_count": 4,
     "metadata": {},
     "output_type": "execute_result"
    }
   ],
   "source": [
    "data = []\n",
    "for post in posts:\n",
    "    data.append([post.created_utc, post.title, post.selftext, post.subreddit])\n",
    "\n",
    "starwars = pd.DataFrame(data, columns = ['created_utc', 'title', 'self_text', 'subreddit'])\n",
    "starwars.head(10)"
   ]
  },
  {
   "cell_type": "code",
   "execution_count": 5,
   "id": "7a0b8be4",
   "metadata": {},
   "outputs": [
    {
     "data": {
      "text/plain": [
       "(991, 4)"
      ]
     },
     "execution_count": 5,
     "metadata": {},
     "output_type": "execute_result"
    }
   ],
   "source": [
    "starwars.shape"
   ]
  },
  {
   "cell_type": "code",
   "execution_count": 6,
   "id": "ddad39d4",
   "metadata": {},
   "outputs": [],
   "source": [
    "starwars.to_csv('../Data/LukeSkywalker.csv')"
   ]
  },
  {
   "cell_type": "code",
   "execution_count": 7,
   "id": "86c8fa43",
   "metadata": {},
   "outputs": [
    {
     "data": {
      "text/html": [
       "<div>\n",
       "<style scoped>\n",
       "    .dataframe tbody tr th:only-of-type {\n",
       "        vertical-align: middle;\n",
       "    }\n",
       "\n",
       "    .dataframe tbody tr th {\n",
       "        vertical-align: top;\n",
       "    }\n",
       "\n",
       "    .dataframe thead th {\n",
       "        text-align: right;\n",
       "    }\n",
       "</style>\n",
       "<table border=\"1\" class=\"dataframe\">\n",
       "  <thead>\n",
       "    <tr style=\"text-align: right;\">\n",
       "      <th></th>\n",
       "      <th>Unnamed: 0</th>\n",
       "      <th>created_utc</th>\n",
       "      <th>title</th>\n",
       "      <th>self_text</th>\n",
       "      <th>subreddit</th>\n",
       "    </tr>\n",
       "  </thead>\n",
       "  <tbody>\n",
       "    <tr>\n",
       "      <th>0</th>\n",
       "      <td>0</td>\n",
       "      <td>1.697418e+09</td>\n",
       "      <td>My Rewrite Pitch for the Sequels( or at least ...</td>\n",
       "      <td>There was a fascinating series of YouTube vide...</td>\n",
       "      <td>StarWarsTheories</td>\n",
       "    </tr>\n",
       "    <tr>\n",
       "      <th>1</th>\n",
       "      <td>1</td>\n",
       "      <td>1.697398e+09</td>\n",
       "      <td>Imperial driods</td>\n",
       "      <td>I think that almost every single driod in star...</td>\n",
       "      <td>StarWarsTheories</td>\n",
       "    </tr>\n",
       "    <tr>\n",
       "      <th>2</th>\n",
       "      <td>2</td>\n",
       "      <td>1.697384e+09</td>\n",
       "      <td>How was Anakin treated in force ghost heaven?</td>\n",
       "      <td>Was he well received? What did mace think? Did...</td>\n",
       "      <td>StarWarsTheories</td>\n",
       "    </tr>\n",
       "    <tr>\n",
       "      <th>3</th>\n",
       "      <td>3</td>\n",
       "      <td>1.697341e+09</td>\n",
       "      <td>Why do you love Star Wars?</td>\n",
       "      <td>This isnt a lore based question but rather a q...</td>\n",
       "      <td>StarWarsTheories</td>\n",
       "    </tr>\n",
       "    <tr>\n",
       "      <th>4</th>\n",
       "      <td>4</td>\n",
       "      <td>1.696634e+09</td>\n",
       "      <td>Does anyone think if this goes well we might g...</td>\n",
       "      <td>Between the Night Sisters and the cloning stor...</td>\n",
       "      <td>StarWarsTheories</td>\n",
       "    </tr>\n",
       "  </tbody>\n",
       "</table>\n",
       "</div>"
      ],
      "text/plain": [
       "   Unnamed: 0   created_utc  \\\n",
       "0           0  1.697418e+09   \n",
       "1           1  1.697398e+09   \n",
       "2           2  1.697384e+09   \n",
       "3           3  1.697341e+09   \n",
       "4           4  1.696634e+09   \n",
       "\n",
       "                                               title  \\\n",
       "0  My Rewrite Pitch for the Sequels( or at least ...   \n",
       "1                                    Imperial driods   \n",
       "2      How was Anakin treated in force ghost heaven?   \n",
       "3                         Why do you love Star Wars?   \n",
       "4  Does anyone think if this goes well we might g...   \n",
       "\n",
       "                                           self_text         subreddit  \n",
       "0  There was a fascinating series of YouTube vide...  StarWarsTheories  \n",
       "1  I think that almost every single driod in star...  StarWarsTheories  \n",
       "2  Was he well received? What did mace think? Did...  StarWarsTheories  \n",
       "3  This isnt a lore based question but rather a q...  StarWarsTheories  \n",
       "4  Between the Night Sisters and the cloning stor...  StarWarsTheories  "
      ]
     },
     "execution_count": 7,
     "metadata": {},
     "output_type": "execute_result"
    }
   ],
   "source": [
    "starwars = pd.read_csv('../Data/LukeSkywalker.csv')\n",
    "starwars.head()"
   ]
  },
  {
   "cell_type": "code",
   "execution_count": 8,
   "id": "1042d8c8",
   "metadata": {},
   "outputs": [],
   "source": [
    "starwars.drop(columns = 'Unnamed: 0', inplace=True)"
   ]
  },
  {
   "cell_type": "code",
   "execution_count": 9,
   "id": "628841d5",
   "metadata": {},
   "outputs": [
    {
     "data": {
      "text/html": [
       "<div>\n",
       "<style scoped>\n",
       "    .dataframe tbody tr th:only-of-type {\n",
       "        vertical-align: middle;\n",
       "    }\n",
       "\n",
       "    .dataframe tbody tr th {\n",
       "        vertical-align: top;\n",
       "    }\n",
       "\n",
       "    .dataframe thead th {\n",
       "        text-align: right;\n",
       "    }\n",
       "</style>\n",
       "<table border=\"1\" class=\"dataframe\">\n",
       "  <thead>\n",
       "    <tr style=\"text-align: right;\">\n",
       "      <th></th>\n",
       "      <th>created_utc</th>\n",
       "      <th>title</th>\n",
       "      <th>self_text</th>\n",
       "      <th>subreddit</th>\n",
       "    </tr>\n",
       "  </thead>\n",
       "  <tbody>\n",
       "    <tr>\n",
       "      <th>0</th>\n",
       "      <td>1.697418e+09</td>\n",
       "      <td>My Rewrite Pitch for the Sequels( or at least ...</td>\n",
       "      <td>There was a fascinating series of YouTube vide...</td>\n",
       "      <td>StarWarsTheories</td>\n",
       "    </tr>\n",
       "    <tr>\n",
       "      <th>1</th>\n",
       "      <td>1.697398e+09</td>\n",
       "      <td>Imperial driods</td>\n",
       "      <td>I think that almost every single driod in star...</td>\n",
       "      <td>StarWarsTheories</td>\n",
       "    </tr>\n",
       "    <tr>\n",
       "      <th>2</th>\n",
       "      <td>1.697384e+09</td>\n",
       "      <td>How was Anakin treated in force ghost heaven?</td>\n",
       "      <td>Was he well received? What did mace think? Did...</td>\n",
       "      <td>StarWarsTheories</td>\n",
       "    </tr>\n",
       "    <tr>\n",
       "      <th>3</th>\n",
       "      <td>1.697341e+09</td>\n",
       "      <td>Why do you love Star Wars?</td>\n",
       "      <td>This isnt a lore based question but rather a q...</td>\n",
       "      <td>StarWarsTheories</td>\n",
       "    </tr>\n",
       "    <tr>\n",
       "      <th>4</th>\n",
       "      <td>1.696634e+09</td>\n",
       "      <td>Does anyone think if this goes well we might g...</td>\n",
       "      <td>Between the Night Sisters and the cloning stor...</td>\n",
       "      <td>StarWarsTheories</td>\n",
       "    </tr>\n",
       "  </tbody>\n",
       "</table>\n",
       "</div>"
      ],
      "text/plain": [
       "    created_utc                                              title  \\\n",
       "0  1.697418e+09  My Rewrite Pitch for the Sequels( or at least ...   \n",
       "1  1.697398e+09                                    Imperial driods   \n",
       "2  1.697384e+09      How was Anakin treated in force ghost heaven?   \n",
       "3  1.697341e+09                         Why do you love Star Wars?   \n",
       "4  1.696634e+09  Does anyone think if this goes well we might g...   \n",
       "\n",
       "                                           self_text         subreddit  \n",
       "0  There was a fascinating series of YouTube vide...  StarWarsTheories  \n",
       "1  I think that almost every single driod in star...  StarWarsTheories  \n",
       "2  Was he well received? What did mace think? Did...  StarWarsTheories  \n",
       "3  This isnt a lore based question but rather a q...  StarWarsTheories  \n",
       "4  Between the Night Sisters and the cloning stor...  StarWarsTheories  "
      ]
     },
     "execution_count": 9,
     "metadata": {},
     "output_type": "execute_result"
    }
   ],
   "source": [
    "starwars.head()"
   ]
  },
  {
   "cell_type": "code",
   "execution_count": 10,
   "id": "3cfdc83d",
   "metadata": {},
   "outputs": [
    {
     "data": {
      "text/plain": [
       "<bound method DataFrame.info of       created_utc                                              title  \\\n",
       "0    1.697418e+09  My Rewrite Pitch for the Sequels( or at least ...   \n",
       "1    1.697398e+09                                    Imperial driods   \n",
       "2    1.697384e+09      How was Anakin treated in force ghost heaven?   \n",
       "3    1.697341e+09                         Why do you love Star Wars?   \n",
       "4    1.696634e+09  Does anyone think if this goes well we might g...   \n",
       "..            ...                                                ...   \n",
       "986  1.592833e+09  **The jedi order is a oppressive cult that lim...   \n",
       "987  1.592810e+09                      Rey Vs Anakin - Who would win   \n",
       "988  1.592782e+09                  What’s gonna happen to baby Yoda?   \n",
       "989  1.592721e+09  Yoda is responsible for the fall of anakin Sky...   \n",
       "990  1.592716e+09  Rey is not the chosen one to balance the force...   \n",
       "\n",
       "                                             self_text         subreddit  \n",
       "0    There was a fascinating series of YouTube vide...  StarWarsTheories  \n",
       "1    I think that almost every single driod in star...  StarWarsTheories  \n",
       "2    Was he well received? What did mace think? Did...  StarWarsTheories  \n",
       "3    This isnt a lore based question but rather a q...  StarWarsTheories  \n",
       "4    Between the Night Sisters and the cloning stor...  StarWarsTheories  \n",
       "..                                                 ...               ...  \n",
       "986  Here's a wild one. What if the jedi order was ...  StarWarsTheories  \n",
       "987  Hey guys so Im doing a video series about bast...  StarWarsTheories  \n",
       "988  What would y’all like to see happen to Baby Yo...  StarWarsTheories  \n",
       "989  So here we go with this one. Our little green ...  StarWarsTheories  \n",
       "990  In the star wars series there seems to be a ma...  StarWarsTheories  \n",
       "\n",
       "[991 rows x 4 columns]>"
      ]
     },
     "execution_count": 10,
     "metadata": {},
     "output_type": "execute_result"
    }
   ],
   "source": [
    "starwars.info"
   ]
  },
  {
   "cell_type": "code",
   "execution_count": 11,
   "id": "13d80898",
   "metadata": {},
   "outputs": [
    {
     "data": {
      "text/plain": [
       "1"
      ]
     },
     "execution_count": 11,
     "metadata": {},
     "output_type": "execute_result"
    }
   ],
   "source": [
    "starwars.duplicated().sum()"
   ]
  },
  {
   "cell_type": "code",
   "execution_count": 12,
   "id": "26a72f89",
   "metadata": {},
   "outputs": [],
   "source": [
    "starwars.drop_duplicates(inplace=True)"
   ]
  },
  {
   "cell_type": "code",
   "execution_count": 13,
   "id": "f655d1a9",
   "metadata": {},
   "outputs": [
    {
     "data": {
      "text/plain": [
       "0"
      ]
     },
     "execution_count": 13,
     "metadata": {},
     "output_type": "execute_result"
    }
   ],
   "source": [
    "starwars.duplicated().sum()"
   ]
  },
  {
   "cell_type": "code",
   "execution_count": 14,
   "id": "e06ce158",
   "metadata": {},
   "outputs": [
    {
     "data": {
      "text/plain": [
       "created_utc     0\n",
       "title           0\n",
       "self_text      20\n",
       "subreddit       0\n",
       "dtype: int64"
      ]
     },
     "execution_count": 14,
     "metadata": {},
     "output_type": "execute_result"
    }
   ],
   "source": [
    "starwars.isna().sum()"
   ]
  },
  {
   "cell_type": "code",
   "execution_count": 15,
   "id": "a2d1d39b",
   "metadata": {},
   "outputs": [
    {
     "data": {
      "text/plain": [
       "created_utc    0\n",
       "title          0\n",
       "self_text      0\n",
       "subreddit      0\n",
       "dtype: int64"
      ]
     },
     "execution_count": 15,
     "metadata": {},
     "output_type": "execute_result"
    }
   ],
   "source": [
    "starwars = starwars.fillna('')\n",
    "starwars.isna().sum()"
   ]
  },
  {
   "cell_type": "code",
   "execution_count": 16,
   "id": "ea38836c",
   "metadata": {},
   "outputs": [
    {
     "data": {
      "text/html": [
       "<div>\n",
       "<style scoped>\n",
       "    .dataframe tbody tr th:only-of-type {\n",
       "        vertical-align: middle;\n",
       "    }\n",
       "\n",
       "    .dataframe tbody tr th {\n",
       "        vertical-align: top;\n",
       "    }\n",
       "\n",
       "    .dataframe thead th {\n",
       "        text-align: right;\n",
       "    }\n",
       "</style>\n",
       "<table border=\"1\" class=\"dataframe\">\n",
       "  <thead>\n",
       "    <tr style=\"text-align: right;\">\n",
       "      <th></th>\n",
       "      <th>created_utc</th>\n",
       "      <th>title</th>\n",
       "      <th>self_text</th>\n",
       "      <th>subreddit</th>\n",
       "    </tr>\n",
       "  </thead>\n",
       "  <tbody>\n",
       "    <tr>\n",
       "      <th>0</th>\n",
       "      <td>1.697418e+09</td>\n",
       "      <td>My Rewrite Pitch for the Sequels( or at least ...</td>\n",
       "      <td>There was a fascinating series of YouTube vide...</td>\n",
       "      <td>StarWarsTheories</td>\n",
       "    </tr>\n",
       "    <tr>\n",
       "      <th>1</th>\n",
       "      <td>1.697398e+09</td>\n",
       "      <td>Imperial driods</td>\n",
       "      <td>I think that almost every single driod in star...</td>\n",
       "      <td>StarWarsTheories</td>\n",
       "    </tr>\n",
       "    <tr>\n",
       "      <th>2</th>\n",
       "      <td>1.697384e+09</td>\n",
       "      <td>How was Anakin treated in force ghost heaven?</td>\n",
       "      <td>Was he well received? What did mace think? Did...</td>\n",
       "      <td>StarWarsTheories</td>\n",
       "    </tr>\n",
       "    <tr>\n",
       "      <th>3</th>\n",
       "      <td>1.697341e+09</td>\n",
       "      <td>Why do you love Star Wars?</td>\n",
       "      <td>This isnt a lore based question but rather a q...</td>\n",
       "      <td>StarWarsTheories</td>\n",
       "    </tr>\n",
       "    <tr>\n",
       "      <th>4</th>\n",
       "      <td>1.696634e+09</td>\n",
       "      <td>Does anyone think if this goes well we might g...</td>\n",
       "      <td>Between the Night Sisters and the cloning stor...</td>\n",
       "      <td>StarWarsTheories</td>\n",
       "    </tr>\n",
       "  </tbody>\n",
       "</table>\n",
       "</div>"
      ],
      "text/plain": [
       "    created_utc                                              title  \\\n",
       "0  1.697418e+09  My Rewrite Pitch for the Sequels( or at least ...   \n",
       "1  1.697398e+09                                    Imperial driods   \n",
       "2  1.697384e+09      How was Anakin treated in force ghost heaven?   \n",
       "3  1.697341e+09                         Why do you love Star Wars?   \n",
       "4  1.696634e+09  Does anyone think if this goes well we might g...   \n",
       "\n",
       "                                           self_text         subreddit  \n",
       "0  There was a fascinating series of YouTube vide...  StarWarsTheories  \n",
       "1  I think that almost every single driod in star...  StarWarsTheories  \n",
       "2  Was he well received? What did mace think? Did...  StarWarsTheories  \n",
       "3  This isnt a lore based question but rather a q...  StarWarsTheories  \n",
       "4  Between the Night Sisters and the cloning stor...  StarWarsTheories  "
      ]
     },
     "execution_count": 16,
     "metadata": {},
     "output_type": "execute_result"
    }
   ],
   "source": [
    "starwars.head()"
   ]
  },
  {
   "cell_type": "code",
   "execution_count": 17,
   "id": "199248ec",
   "metadata": {},
   "outputs": [],
   "source": [
    "starwars['combo_text'] = starwars['title'] + ' - ' + starwars['self_text']\n",
    "starwars.drop(columns = ['title','self_text'], inplace=True)"
   ]
  },
  {
   "cell_type": "code",
   "execution_count": 18,
   "id": "d1e2c9de",
   "metadata": {},
   "outputs": [
    {
     "data": {
      "text/html": [
       "<div>\n",
       "<style scoped>\n",
       "    .dataframe tbody tr th:only-of-type {\n",
       "        vertical-align: middle;\n",
       "    }\n",
       "\n",
       "    .dataframe tbody tr th {\n",
       "        vertical-align: top;\n",
       "    }\n",
       "\n",
       "    .dataframe thead th {\n",
       "        text-align: right;\n",
       "    }\n",
       "</style>\n",
       "<table border=\"1\" class=\"dataframe\">\n",
       "  <thead>\n",
       "    <tr style=\"text-align: right;\">\n",
       "      <th></th>\n",
       "      <th>created_utc</th>\n",
       "      <th>subreddit</th>\n",
       "      <th>combo_text</th>\n",
       "    </tr>\n",
       "  </thead>\n",
       "  <tbody>\n",
       "    <tr>\n",
       "      <th>0</th>\n",
       "      <td>1.697418e+09</td>\n",
       "      <td>StarWarsTheories</td>\n",
       "      <td>My Rewrite Pitch for the Sequels( or at least ...</td>\n",
       "    </tr>\n",
       "    <tr>\n",
       "      <th>1</th>\n",
       "      <td>1.697398e+09</td>\n",
       "      <td>StarWarsTheories</td>\n",
       "      <td>Imperial driods - I think that almost every si...</td>\n",
       "    </tr>\n",
       "    <tr>\n",
       "      <th>2</th>\n",
       "      <td>1.697384e+09</td>\n",
       "      <td>StarWarsTheories</td>\n",
       "      <td>How was Anakin treated in force ghost heaven? ...</td>\n",
       "    </tr>\n",
       "    <tr>\n",
       "      <th>3</th>\n",
       "      <td>1.697341e+09</td>\n",
       "      <td>StarWarsTheories</td>\n",
       "      <td>Why do you love Star Wars? - This isnt a lore ...</td>\n",
       "    </tr>\n",
       "    <tr>\n",
       "      <th>4</th>\n",
       "      <td>1.696634e+09</td>\n",
       "      <td>StarWarsTheories</td>\n",
       "      <td>Does anyone think if this goes well we might g...</td>\n",
       "    </tr>\n",
       "  </tbody>\n",
       "</table>\n",
       "</div>"
      ],
      "text/plain": [
       "    created_utc         subreddit  \\\n",
       "0  1.697418e+09  StarWarsTheories   \n",
       "1  1.697398e+09  StarWarsTheories   \n",
       "2  1.697384e+09  StarWarsTheories   \n",
       "3  1.697341e+09  StarWarsTheories   \n",
       "4  1.696634e+09  StarWarsTheories   \n",
       "\n",
       "                                          combo_text  \n",
       "0  My Rewrite Pitch for the Sequels( or at least ...  \n",
       "1  Imperial driods - I think that almost every si...  \n",
       "2  How was Anakin treated in force ghost heaven? ...  \n",
       "3  Why do you love Star Wars? - This isnt a lore ...  \n",
       "4  Does anyone think if this goes well we might g...  "
      ]
     },
     "execution_count": 18,
     "metadata": {},
     "output_type": "execute_result"
    }
   ],
   "source": [
    "starwars.head()"
   ]
  },
  {
   "cell_type": "code",
   "execution_count": 19,
   "id": "d1e063f2",
   "metadata": {},
   "outputs": [
    {
     "data": {
      "text/plain": [
       "(990, 3)"
      ]
     },
     "execution_count": 19,
     "metadata": {},
     "output_type": "execute_result"
    }
   ],
   "source": [
    "starwars.shape"
   ]
  },
  {
   "cell_type": "code",
   "execution_count": 20,
   "id": "f2b0aabb",
   "metadata": {},
   "outputs": [],
   "source": [
    "starwars.to_csv('../Data/Luke-After-Yoda.csv')"
   ]
  },
  {
   "cell_type": "code",
   "execution_count": null,
   "id": "518c3abf",
   "metadata": {},
   "outputs": [],
   "source": []
  }
 ],
 "metadata": {
  "kernelspec": {
   "display_name": "Python 3 (ipykernel)",
   "language": "python",
   "name": "python3"
  },
  "language_info": {
   "codemirror_mode": {
    "name": "ipython",
    "version": 3
   },
   "file_extension": ".py",
   "mimetype": "text/x-python",
   "name": "python",
   "nbconvert_exporter": "python",
   "pygments_lexer": "ipython3",
   "version": "3.11.4"
  }
 },
 "nbformat": 4,
 "nbformat_minor": 5
}
