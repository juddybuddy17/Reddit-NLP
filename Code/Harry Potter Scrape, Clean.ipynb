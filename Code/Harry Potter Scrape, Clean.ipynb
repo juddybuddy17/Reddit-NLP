{
 "cells": [
  {
   "cell_type": "code",
   "execution_count": 1,
   "id": "49982260",
   "metadata": {},
   "outputs": [],
   "source": [
    "import praw\n",
    "import pandas as pd\n",
    "import numpy as np\n",
    "import matplotlib.pyplot as plt"
   ]
  },
  {
   "cell_type": "code",
   "execution_count": 2,
   "id": "ec05de10",
   "metadata": {},
   "outputs": [],
   "source": [
    "reddit = praw.Reddit(\n",
    "    client_id='cWHCVY7qaA3l4ZgJtYfbAw',\n",
    "    client_secret='rimAV8kGrA3TBp8S_7Lkeoux2nt5ag',\n",
    "    user_agent='mac:cWHCVY7qaA3l4ZgJtYfbAw.quesadea17:v1.2.3 (by juddy_buddy_17)',\n",
    "    username='juddy_buddy_17')"
   ]
  },
  {
   "cell_type": "code",
   "execution_count": 3,
   "id": "d74f8f1b",
   "metadata": {},
   "outputs": [],
   "source": [
    "subreddit = reddit.subreddit('HarryPotterBooks')\n",
    "posts = subreddit.new(limit=1000)"
   ]
  },
  {
   "cell_type": "code",
   "execution_count": 4,
   "id": "7d6694b5",
   "metadata": {},
   "outputs": [
    {
     "data": {
      "text/html": [
       "<div>\n",
       "<style scoped>\n",
       "    .dataframe tbody tr th:only-of-type {\n",
       "        vertical-align: middle;\n",
       "    }\n",
       "\n",
       "    .dataframe tbody tr th {\n",
       "        vertical-align: top;\n",
       "    }\n",
       "\n",
       "    .dataframe thead th {\n",
       "        text-align: right;\n",
       "    }\n",
       "</style>\n",
       "<table border=\"1\" class=\"dataframe\">\n",
       "  <thead>\n",
       "    <tr style=\"text-align: right;\">\n",
       "      <th></th>\n",
       "      <th>created_utc</th>\n",
       "      <th>title</th>\n",
       "      <th>self_text</th>\n",
       "      <th>subreddit</th>\n",
       "    </tr>\n",
       "  </thead>\n",
       "  <tbody>\n",
       "    <tr>\n",
       "      <th>0</th>\n",
       "      <td>1.697753e+09</td>\n",
       "      <td>I find the scene where Hedwig is indignant wit...</td>\n",
       "      <td>Hedwig is really sweet and really cares about ...</td>\n",
       "      <td>HarryPotterBooks</td>\n",
       "    </tr>\n",
       "    <tr>\n",
       "      <th>1</th>\n",
       "      <td>1.697736e+09</td>\n",
       "      <td>Polyjuice Potion</td>\n",
       "      <td>I'm reading the books again, and I just came a...</td>\n",
       "      <td>HarryPotterBooks</td>\n",
       "    </tr>\n",
       "    <tr>\n",
       "      <th>2</th>\n",
       "      <td>1.697733e+09</td>\n",
       "      <td>Challenged my friend to the hardest HP trivia ...</td>\n",
       "      <td>I posted these on the other sub so apologies i...</td>\n",
       "      <td>HarryPotterBooks</td>\n",
       "    </tr>\n",
       "    <tr>\n",
       "      <th>3</th>\n",
       "      <td>1.697726e+09</td>\n",
       "      <td>Sometimes it feels exhausted to love an unpopu...</td>\n",
       "      <td>Honestly Ron is my favorite character and most...</td>\n",
       "      <td>HarryPotterBooks</td>\n",
       "    </tr>\n",
       "    <tr>\n",
       "      <th>4</th>\n",
       "      <td>1.697724e+09</td>\n",
       "      <td>The Trace</td>\n",
       "      <td>We know all kids under the age of 17 have the ...</td>\n",
       "      <td>HarryPotterBooks</td>\n",
       "    </tr>\n",
       "    <tr>\n",
       "      <th>5</th>\n",
       "      <td>1.697718e+09</td>\n",
       "      <td>Walburga Black</td>\n",
       "      <td>What do you think she was like? I know many sa...</td>\n",
       "      <td>HarryPotterBooks</td>\n",
       "    </tr>\n",
       "    <tr>\n",
       "      <th>6</th>\n",
       "      <td>1.697710e+09</td>\n",
       "      <td>The death of Barty Crouch JR</td>\n",
       "      <td>Ok, listen- I try not to poke holes in the plo...</td>\n",
       "      <td>HarryPotterBooks</td>\n",
       "    </tr>\n",
       "    <tr>\n",
       "      <th>7</th>\n",
       "      <td>1.697708e+09</td>\n",
       "      <td>What's your favorite Dumbledore moment, and why?</td>\n",
       "      <td>My one is Dumbledore’s speech at the end of \"H...</td>\n",
       "      <td>HarryPotterBooks</td>\n",
       "    </tr>\n",
       "    <tr>\n",
       "      <th>8</th>\n",
       "      <td>1.697694e+09</td>\n",
       "      <td>Are all the Jim Kay deluxe illustrated books u...</td>\n",
       "      <td>I have read that the OOTP does not have the sa...</td>\n",
       "      <td>HarryPotterBooks</td>\n",
       "    </tr>\n",
       "    <tr>\n",
       "      <th>9</th>\n",
       "      <td>1.697680e+09</td>\n",
       "      <td>Why do you think Harry is harder on his father...</td>\n",
       "      <td>He directs his disappointment towards his fath...</td>\n",
       "      <td>HarryPotterBooks</td>\n",
       "    </tr>\n",
       "  </tbody>\n",
       "</table>\n",
       "</div>"
      ],
      "text/plain": [
       "    created_utc                                              title  \\\n",
       "0  1.697753e+09  I find the scene where Hedwig is indignant wit...   \n",
       "1  1.697736e+09                                   Polyjuice Potion   \n",
       "2  1.697733e+09  Challenged my friend to the hardest HP trivia ...   \n",
       "3  1.697726e+09  Sometimes it feels exhausted to love an unpopu...   \n",
       "4  1.697724e+09                                          The Trace   \n",
       "5  1.697718e+09                                     Walburga Black   \n",
       "6  1.697710e+09                       The death of Barty Crouch JR   \n",
       "7  1.697708e+09   What's your favorite Dumbledore moment, and why?   \n",
       "8  1.697694e+09  Are all the Jim Kay deluxe illustrated books u...   \n",
       "9  1.697680e+09  Why do you think Harry is harder on his father...   \n",
       "\n",
       "                                           self_text         subreddit  \n",
       "0  Hedwig is really sweet and really cares about ...  HarryPotterBooks  \n",
       "1  I'm reading the books again, and I just came a...  HarryPotterBooks  \n",
       "2  I posted these on the other sub so apologies i...  HarryPotterBooks  \n",
       "3  Honestly Ron is my favorite character and most...  HarryPotterBooks  \n",
       "4  We know all kids under the age of 17 have the ...  HarryPotterBooks  \n",
       "5  What do you think she was like? I know many sa...  HarryPotterBooks  \n",
       "6  Ok, listen- I try not to poke holes in the plo...  HarryPotterBooks  \n",
       "7  My one is Dumbledore’s speech at the end of \"H...  HarryPotterBooks  \n",
       "8  I have read that the OOTP does not have the sa...  HarryPotterBooks  \n",
       "9  He directs his disappointment towards his fath...  HarryPotterBooks  "
      ]
     },
     "execution_count": 4,
     "metadata": {},
     "output_type": "execute_result"
    }
   ],
   "source": [
    "data = []\n",
    "for post in posts:\n",
    "    data.append([post.created_utc, post.title, post.selftext, post.subreddit])\n",
    "\n",
    "hp = pd.DataFrame(data, columns = ['created_utc', 'title', 'self_text', 'subreddit'])\n",
    "hp.head(10)"
   ]
  },
  {
   "cell_type": "code",
   "execution_count": 5,
   "id": "b6c22ef8",
   "metadata": {},
   "outputs": [
    {
     "data": {
      "text/plain": [
       "(990, 4)"
      ]
     },
     "execution_count": 5,
     "metadata": {},
     "output_type": "execute_result"
    }
   ],
   "source": [
    "hp.shape"
   ]
  },
  {
   "cell_type": "code",
   "execution_count": 6,
   "id": "f3248b52",
   "metadata": {},
   "outputs": [],
   "source": [
    "# create a CSV for the data\n",
    "hp.to_csv('../Data/Harry.csv')"
   ]
  },
  {
   "cell_type": "code",
   "execution_count": 7,
   "id": "d480b91d",
   "metadata": {},
   "outputs": [
    {
     "data": {
      "text/html": [
       "<div>\n",
       "<style scoped>\n",
       "    .dataframe tbody tr th:only-of-type {\n",
       "        vertical-align: middle;\n",
       "    }\n",
       "\n",
       "    .dataframe tbody tr th {\n",
       "        vertical-align: top;\n",
       "    }\n",
       "\n",
       "    .dataframe thead th {\n",
       "        text-align: right;\n",
       "    }\n",
       "</style>\n",
       "<table border=\"1\" class=\"dataframe\">\n",
       "  <thead>\n",
       "    <tr style=\"text-align: right;\">\n",
       "      <th></th>\n",
       "      <th>Unnamed: 0</th>\n",
       "      <th>created_utc</th>\n",
       "      <th>title</th>\n",
       "      <th>self_text</th>\n",
       "      <th>subreddit</th>\n",
       "    </tr>\n",
       "  </thead>\n",
       "  <tbody>\n",
       "    <tr>\n",
       "      <th>0</th>\n",
       "      <td>0</td>\n",
       "      <td>1.697753e+09</td>\n",
       "      <td>I find the scene where Hedwig is indignant wit...</td>\n",
       "      <td>Hedwig is really sweet and really cares about ...</td>\n",
       "      <td>HarryPotterBooks</td>\n",
       "    </tr>\n",
       "    <tr>\n",
       "      <th>1</th>\n",
       "      <td>1</td>\n",
       "      <td>1.697736e+09</td>\n",
       "      <td>Polyjuice Potion</td>\n",
       "      <td>I'm reading the books again, and I just came a...</td>\n",
       "      <td>HarryPotterBooks</td>\n",
       "    </tr>\n",
       "    <tr>\n",
       "      <th>2</th>\n",
       "      <td>2</td>\n",
       "      <td>1.697733e+09</td>\n",
       "      <td>Challenged my friend to the hardest HP trivia ...</td>\n",
       "      <td>I posted these on the other sub so apologies i...</td>\n",
       "      <td>HarryPotterBooks</td>\n",
       "    </tr>\n",
       "    <tr>\n",
       "      <th>3</th>\n",
       "      <td>3</td>\n",
       "      <td>1.697726e+09</td>\n",
       "      <td>Sometimes it feels exhausted to love an unpopu...</td>\n",
       "      <td>Honestly Ron is my favorite character and most...</td>\n",
       "      <td>HarryPotterBooks</td>\n",
       "    </tr>\n",
       "    <tr>\n",
       "      <th>4</th>\n",
       "      <td>4</td>\n",
       "      <td>1.697724e+09</td>\n",
       "      <td>The Trace</td>\n",
       "      <td>We know all kids under the age of 17 have the ...</td>\n",
       "      <td>HarryPotterBooks</td>\n",
       "    </tr>\n",
       "  </tbody>\n",
       "</table>\n",
       "</div>"
      ],
      "text/plain": [
       "   Unnamed: 0   created_utc  \\\n",
       "0           0  1.697753e+09   \n",
       "1           1  1.697736e+09   \n",
       "2           2  1.697733e+09   \n",
       "3           3  1.697726e+09   \n",
       "4           4  1.697724e+09   \n",
       "\n",
       "                                               title  \\\n",
       "0  I find the scene where Hedwig is indignant wit...   \n",
       "1                                   Polyjuice Potion   \n",
       "2  Challenged my friend to the hardest HP trivia ...   \n",
       "3  Sometimes it feels exhausted to love an unpopu...   \n",
       "4                                          The Trace   \n",
       "\n",
       "                                           self_text         subreddit  \n",
       "0  Hedwig is really sweet and really cares about ...  HarryPotterBooks  \n",
       "1  I'm reading the books again, and I just came a...  HarryPotterBooks  \n",
       "2  I posted these on the other sub so apologies i...  HarryPotterBooks  \n",
       "3  Honestly Ron is my favorite character and most...  HarryPotterBooks  \n",
       "4  We know all kids under the age of 17 have the ...  HarryPotterBooks  "
      ]
     },
     "execution_count": 7,
     "metadata": {},
     "output_type": "execute_result"
    }
   ],
   "source": [
    "# read in CSV\n",
    "harry = pd.read_csv('../Data/Harry.csv')\n",
    "harry.head()"
   ]
  },
  {
   "cell_type": "code",
   "execution_count": 8,
   "id": "bd259a11",
   "metadata": {},
   "outputs": [],
   "source": [
    "# dropping Unnamed: 0 column\n",
    "harry.drop(columns = 'Unnamed: 0', inplace=True)"
   ]
  },
  {
   "cell_type": "code",
   "execution_count": 9,
   "id": "fb377681",
   "metadata": {},
   "outputs": [
    {
     "data": {
      "text/html": [
       "<div>\n",
       "<style scoped>\n",
       "    .dataframe tbody tr th:only-of-type {\n",
       "        vertical-align: middle;\n",
       "    }\n",
       "\n",
       "    .dataframe tbody tr th {\n",
       "        vertical-align: top;\n",
       "    }\n",
       "\n",
       "    .dataframe thead th {\n",
       "        text-align: right;\n",
       "    }\n",
       "</style>\n",
       "<table border=\"1\" class=\"dataframe\">\n",
       "  <thead>\n",
       "    <tr style=\"text-align: right;\">\n",
       "      <th></th>\n",
       "      <th>created_utc</th>\n",
       "      <th>title</th>\n",
       "      <th>self_text</th>\n",
       "      <th>subreddit</th>\n",
       "    </tr>\n",
       "  </thead>\n",
       "  <tbody>\n",
       "    <tr>\n",
       "      <th>0</th>\n",
       "      <td>1.697753e+09</td>\n",
       "      <td>I find the scene where Hedwig is indignant wit...</td>\n",
       "      <td>Hedwig is really sweet and really cares about ...</td>\n",
       "      <td>HarryPotterBooks</td>\n",
       "    </tr>\n",
       "    <tr>\n",
       "      <th>1</th>\n",
       "      <td>1.697736e+09</td>\n",
       "      <td>Polyjuice Potion</td>\n",
       "      <td>I'm reading the books again, and I just came a...</td>\n",
       "      <td>HarryPotterBooks</td>\n",
       "    </tr>\n",
       "    <tr>\n",
       "      <th>2</th>\n",
       "      <td>1.697733e+09</td>\n",
       "      <td>Challenged my friend to the hardest HP trivia ...</td>\n",
       "      <td>I posted these on the other sub so apologies i...</td>\n",
       "      <td>HarryPotterBooks</td>\n",
       "    </tr>\n",
       "    <tr>\n",
       "      <th>3</th>\n",
       "      <td>1.697726e+09</td>\n",
       "      <td>Sometimes it feels exhausted to love an unpopu...</td>\n",
       "      <td>Honestly Ron is my favorite character and most...</td>\n",
       "      <td>HarryPotterBooks</td>\n",
       "    </tr>\n",
       "    <tr>\n",
       "      <th>4</th>\n",
       "      <td>1.697724e+09</td>\n",
       "      <td>The Trace</td>\n",
       "      <td>We know all kids under the age of 17 have the ...</td>\n",
       "      <td>HarryPotterBooks</td>\n",
       "    </tr>\n",
       "  </tbody>\n",
       "</table>\n",
       "</div>"
      ],
      "text/plain": [
       "    created_utc                                              title  \\\n",
       "0  1.697753e+09  I find the scene where Hedwig is indignant wit...   \n",
       "1  1.697736e+09                                   Polyjuice Potion   \n",
       "2  1.697733e+09  Challenged my friend to the hardest HP trivia ...   \n",
       "3  1.697726e+09  Sometimes it feels exhausted to love an unpopu...   \n",
       "4  1.697724e+09                                          The Trace   \n",
       "\n",
       "                                           self_text         subreddit  \n",
       "0  Hedwig is really sweet and really cares about ...  HarryPotterBooks  \n",
       "1  I'm reading the books again, and I just came a...  HarryPotterBooks  \n",
       "2  I posted these on the other sub so apologies i...  HarryPotterBooks  \n",
       "3  Honestly Ron is my favorite character and most...  HarryPotterBooks  \n",
       "4  We know all kids under the age of 17 have the ...  HarryPotterBooks  "
      ]
     },
     "execution_count": 9,
     "metadata": {},
     "output_type": "execute_result"
    }
   ],
   "source": [
    "# check if column was dropped\n",
    "harry.head()"
   ]
  },
  {
   "cell_type": "code",
   "execution_count": 10,
   "id": "7c05bd92",
   "metadata": {},
   "outputs": [
    {
     "data": {
      "text/plain": [
       "<bound method DataFrame.info of       created_utc                                              title  \\\n",
       "0    1.697753e+09  I find the scene where Hedwig is indignant wit...   \n",
       "1    1.697736e+09                                   Polyjuice Potion   \n",
       "2    1.697733e+09  Challenged my friend to the hardest HP trivia ...   \n",
       "3    1.697726e+09  Sometimes it feels exhausted to love an unpopu...   \n",
       "4    1.697724e+09                                          The Trace   \n",
       "..            ...                                                ...   \n",
       "985  1.681794e+09  The scene in DH with Arthur's patronus is usef...   \n",
       "986  1.681742e+09                       Best book covers of all time   \n",
       "987  1.681727e+09  The abandoning of children is something Harry ...   \n",
       "988  1.681707e+09  Did you guys know that you can't apparate nor ...   \n",
       "989  1.681697e+09           “The Binding is Fragile” *Harry’s Voice*   \n",
       "\n",
       "                                             self_text         subreddit  \n",
       "0    Hedwig is really sweet and really cares about ...  HarryPotterBooks  \n",
       "1    I'm reading the books again, and I just came a...  HarryPotterBooks  \n",
       "2    I posted these on the other sub so apologies i...  HarryPotterBooks  \n",
       "3    Honestly Ron is my favorite character and most...  HarryPotterBooks  \n",
       "4    We know all kids under the age of 17 have the ...  HarryPotterBooks  \n",
       "..                                                 ...               ...  \n",
       "985  I find it interesting to compare the scene whe...  HarryPotterBooks  \n",
       "986  Harry Potter and the Hogwarts Express\\n\\nHarry...  HarryPotterBooks  \n",
       "987  We see this most clearly with his rather harsh...  HarryPotterBooks  \n",
       "988  I've always found it to be funny how many time...  HarryPotterBooks  \n",
       "989  I’ve found myself getting lost in the Harry Po...  HarryPotterBooks  \n",
       "\n",
       "[990 rows x 4 columns]>"
      ]
     },
     "execution_count": 10,
     "metadata": {},
     "output_type": "execute_result"
    }
   ],
   "source": [
    "# General snapshot of how Harry's doin\n",
    "harry.info"
   ]
  },
  {
   "cell_type": "code",
   "execution_count": 11,
   "id": "8e23e0ea",
   "metadata": {},
   "outputs": [
    {
     "data": {
      "text/plain": [
       "0"
      ]
     },
     "execution_count": 11,
     "metadata": {},
     "output_type": "execute_result"
    }
   ],
   "source": [
    "# check for duplicated posts\n",
    "harry.duplicated().sum()"
   ]
  },
  {
   "cell_type": "code",
   "execution_count": 12,
   "id": "4dca7621",
   "metadata": {},
   "outputs": [
    {
     "data": {
      "text/plain": [
       "created_utc     0\n",
       "title           0\n",
       "self_text      43\n",
       "subreddit       0\n",
       "dtype: int64"
      ]
     },
     "execution_count": 12,
     "metadata": {},
     "output_type": "execute_result"
    }
   ],
   "source": [
    "# check for missings\n",
    "harry.isna().sum()"
   ]
  },
  {
   "cell_type": "code",
   "execution_count": 13,
   "id": "359f8274",
   "metadata": {},
   "outputs": [],
   "source": [
    "# fill the missings with blank ''\n",
    "harry = harry.fillna('')"
   ]
  },
  {
   "cell_type": "code",
   "execution_count": 14,
   "id": "4e0c7a05",
   "metadata": {},
   "outputs": [
    {
     "data": {
      "text/plain": [
       "created_utc    0\n",
       "title          0\n",
       "self_text      0\n",
       "subreddit      0\n",
       "dtype: int64"
      ]
     },
     "execution_count": 14,
     "metadata": {},
     "output_type": "execute_result"
    }
   ],
   "source": [
    "# make sure no missings\n",
    "harry.isna().sum()"
   ]
  },
  {
   "cell_type": "code",
   "execution_count": 15,
   "id": "44503d38",
   "metadata": {},
   "outputs": [
    {
     "data": {
      "text/html": [
       "<div>\n",
       "<style scoped>\n",
       "    .dataframe tbody tr th:only-of-type {\n",
       "        vertical-align: middle;\n",
       "    }\n",
       "\n",
       "    .dataframe tbody tr th {\n",
       "        vertical-align: top;\n",
       "    }\n",
       "\n",
       "    .dataframe thead th {\n",
       "        text-align: right;\n",
       "    }\n",
       "</style>\n",
       "<table border=\"1\" class=\"dataframe\">\n",
       "  <thead>\n",
       "    <tr style=\"text-align: right;\">\n",
       "      <th></th>\n",
       "      <th>created_utc</th>\n",
       "      <th>title</th>\n",
       "      <th>self_text</th>\n",
       "      <th>subreddit</th>\n",
       "    </tr>\n",
       "  </thead>\n",
       "  <tbody>\n",
       "    <tr>\n",
       "      <th>0</th>\n",
       "      <td>1.697753e+09</td>\n",
       "      <td>I find the scene where Hedwig is indignant wit...</td>\n",
       "      <td>Hedwig is really sweet and really cares about ...</td>\n",
       "      <td>HarryPotterBooks</td>\n",
       "    </tr>\n",
       "    <tr>\n",
       "      <th>1</th>\n",
       "      <td>1.697736e+09</td>\n",
       "      <td>Polyjuice Potion</td>\n",
       "      <td>I'm reading the books again, and I just came a...</td>\n",
       "      <td>HarryPotterBooks</td>\n",
       "    </tr>\n",
       "    <tr>\n",
       "      <th>2</th>\n",
       "      <td>1.697733e+09</td>\n",
       "      <td>Challenged my friend to the hardest HP trivia ...</td>\n",
       "      <td>I posted these on the other sub so apologies i...</td>\n",
       "      <td>HarryPotterBooks</td>\n",
       "    </tr>\n",
       "    <tr>\n",
       "      <th>3</th>\n",
       "      <td>1.697726e+09</td>\n",
       "      <td>Sometimes it feels exhausted to love an unpopu...</td>\n",
       "      <td>Honestly Ron is my favorite character and most...</td>\n",
       "      <td>HarryPotterBooks</td>\n",
       "    </tr>\n",
       "    <tr>\n",
       "      <th>4</th>\n",
       "      <td>1.697724e+09</td>\n",
       "      <td>The Trace</td>\n",
       "      <td>We know all kids under the age of 17 have the ...</td>\n",
       "      <td>HarryPotterBooks</td>\n",
       "    </tr>\n",
       "  </tbody>\n",
       "</table>\n",
       "</div>"
      ],
      "text/plain": [
       "    created_utc                                              title  \\\n",
       "0  1.697753e+09  I find the scene where Hedwig is indignant wit...   \n",
       "1  1.697736e+09                                   Polyjuice Potion   \n",
       "2  1.697733e+09  Challenged my friend to the hardest HP trivia ...   \n",
       "3  1.697726e+09  Sometimes it feels exhausted to love an unpopu...   \n",
       "4  1.697724e+09                                          The Trace   \n",
       "\n",
       "                                           self_text         subreddit  \n",
       "0  Hedwig is really sweet and really cares about ...  HarryPotterBooks  \n",
       "1  I'm reading the books again, and I just came a...  HarryPotterBooks  \n",
       "2  I posted these on the other sub so apologies i...  HarryPotterBooks  \n",
       "3  Honestly Ron is my favorite character and most...  HarryPotterBooks  \n",
       "4  We know all kids under the age of 17 have the ...  HarryPotterBooks  "
      ]
     },
     "execution_count": 15,
     "metadata": {},
     "output_type": "execute_result"
    }
   ],
   "source": [
    "harry.head()"
   ]
  },
  {
   "cell_type": "code",
   "execution_count": 16,
   "id": "e4828774",
   "metadata": {},
   "outputs": [],
   "source": [
    "# combine the title and self_text column to make one text column\n",
    "harry['combo_text'] = harry['title'] + ' - ' + harry['self_text']\n",
    "harry.drop(columns = ['title','self_text'], inplace=True)"
   ]
  },
  {
   "cell_type": "code",
   "execution_count": 17,
   "id": "bcb19582",
   "metadata": {},
   "outputs": [
    {
     "data": {
      "text/html": [
       "<div>\n",
       "<style scoped>\n",
       "    .dataframe tbody tr th:only-of-type {\n",
       "        vertical-align: middle;\n",
       "    }\n",
       "\n",
       "    .dataframe tbody tr th {\n",
       "        vertical-align: top;\n",
       "    }\n",
       "\n",
       "    .dataframe thead th {\n",
       "        text-align: right;\n",
       "    }\n",
       "</style>\n",
       "<table border=\"1\" class=\"dataframe\">\n",
       "  <thead>\n",
       "    <tr style=\"text-align: right;\">\n",
       "      <th></th>\n",
       "      <th>created_utc</th>\n",
       "      <th>subreddit</th>\n",
       "      <th>combo_text</th>\n",
       "    </tr>\n",
       "  </thead>\n",
       "  <tbody>\n",
       "    <tr>\n",
       "      <th>0</th>\n",
       "      <td>1.697753e+09</td>\n",
       "      <td>HarryPotterBooks</td>\n",
       "      <td>I find the scene where Hedwig is indignant wit...</td>\n",
       "    </tr>\n",
       "    <tr>\n",
       "      <th>1</th>\n",
       "      <td>1.697736e+09</td>\n",
       "      <td>HarryPotterBooks</td>\n",
       "      <td>Polyjuice Potion - I'm reading the books again...</td>\n",
       "    </tr>\n",
       "    <tr>\n",
       "      <th>2</th>\n",
       "      <td>1.697733e+09</td>\n",
       "      <td>HarryPotterBooks</td>\n",
       "      <td>Challenged my friend to the hardest HP trivia ...</td>\n",
       "    </tr>\n",
       "    <tr>\n",
       "      <th>3</th>\n",
       "      <td>1.697726e+09</td>\n",
       "      <td>HarryPotterBooks</td>\n",
       "      <td>Sometimes it feels exhausted to love an unpopu...</td>\n",
       "    </tr>\n",
       "    <tr>\n",
       "      <th>4</th>\n",
       "      <td>1.697724e+09</td>\n",
       "      <td>HarryPotterBooks</td>\n",
       "      <td>The Trace - We know all kids under the age of ...</td>\n",
       "    </tr>\n",
       "  </tbody>\n",
       "</table>\n",
       "</div>"
      ],
      "text/plain": [
       "    created_utc         subreddit  \\\n",
       "0  1.697753e+09  HarryPotterBooks   \n",
       "1  1.697736e+09  HarryPotterBooks   \n",
       "2  1.697733e+09  HarryPotterBooks   \n",
       "3  1.697726e+09  HarryPotterBooks   \n",
       "4  1.697724e+09  HarryPotterBooks   \n",
       "\n",
       "                                          combo_text  \n",
       "0  I find the scene where Hedwig is indignant wit...  \n",
       "1  Polyjuice Potion - I'm reading the books again...  \n",
       "2  Challenged my friend to the hardest HP trivia ...  \n",
       "3  Sometimes it feels exhausted to love an unpopu...  \n",
       "4  The Trace - We know all kids under the age of ...  "
      ]
     },
     "execution_count": 17,
     "metadata": {},
     "output_type": "execute_result"
    }
   ],
   "source": [
    "harry.head()"
   ]
  },
  {
   "cell_type": "code",
   "execution_count": 18,
   "id": "9a56ebc5",
   "metadata": {},
   "outputs": [
    {
     "data": {
      "text/plain": [
       "(990, 3)"
      ]
     },
     "execution_count": 18,
     "metadata": {},
     "output_type": "execute_result"
    }
   ],
   "source": [
    "harry.shape"
   ]
  },
  {
   "cell_type": "code",
   "execution_count": 19,
   "id": "d6e90b0e",
   "metadata": {},
   "outputs": [],
   "source": [
    "# save as a csv\n",
    "harry.to_csv('../Data/yer-a-wizard-Harry.csv')"
   ]
  },
  {
   "cell_type": "code",
   "execution_count": null,
   "id": "4f0badce",
   "metadata": {},
   "outputs": [],
   "source": []
  }
 ],
 "metadata": {
  "kernelspec": {
   "display_name": "Python 3 (ipykernel)",
   "language": "python",
   "name": "python3"
  },
  "language_info": {
   "codemirror_mode": {
    "name": "ipython",
    "version": 3
   },
   "file_extension": ".py",
   "mimetype": "text/x-python",
   "name": "python",
   "nbconvert_exporter": "python",
   "pygments_lexer": "ipython3",
   "version": "3.11.4"
  }
 },
 "nbformat": 4,
 "nbformat_minor": 5
}
